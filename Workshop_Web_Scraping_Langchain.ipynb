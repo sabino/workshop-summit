{
  "nbformat": 4,
  "nbformat_minor": 0,
  "metadata": {
    "colab": {
      "provenance": []
    },
    "kernelspec": {
      "name": "python3",
      "display_name": "Python 3"
    },
    "language_info": {
      "name": "python"
    }
  },
  "cells": [
    {
      "cell_type": "code",
      "execution_count": null,
      "metadata": {
        "id": "zmbjsePwHePC"
      },
      "outputs": [],
      "source": [
        "%%capture\n",
        "!pip install playwright\n",
        "!apt install chromium-chromedriver\n",
        "!pip install nest_asyncio\n",
        "!pip install langchain langchain_community langchain_openai langchainhub\n",
        "!pip install lxml\n",
        "!playwright install"
      ]
    },
    {
      "cell_type": "code",
      "source": [
        "import os\n",
        "os.environ[\"OPENAI_API_KEY\"] = \"\""
      ],
      "metadata": {
        "id": "klP0yCWvHhXC"
      },
      "execution_count": null,
      "outputs": []
    },
    {
      "cell_type": "code",
      "source": [
        "import nest_asyncio\n",
        "nest_asyncio.apply()"
      ],
      "metadata": {
        "id": "no5MtUDFHzlS"
      },
      "execution_count": null,
      "outputs": []
    },
    {
      "cell_type": "code",
      "source": [
        "from langchain_community.agent_toolkits import PlayWrightBrowserToolkit\n",
        "from langchain_community.tools.playwright.utils import create_async_playwright_browser\n",
        "from langchain import hub\n",
        "from langchain.agents import AgentExecutor, create_openai_tools_agent\n",
        "from langchain_openai import ChatOpenAI"
      ],
      "metadata": {
        "id": "t1g6hitwIaop"
      },
      "execution_count": null,
      "outputs": []
    },
    {
      "cell_type": "code",
      "source": [
        "async_browser = create_async_playwright_browser()\n",
        "toolkit = PlayWrightBrowserToolkit.from_browser(async_browser=async_browser)\n",
        "tools = toolkit.get_tools()"
      ],
      "metadata": {
        "id": "t86gHqmTIbJf"
      },
      "execution_count": null,
      "outputs": []
    },
    {
      "cell_type": "code",
      "source": [
        "prompt = hub.pull(\"hwchase17/openai-tools-agent\")"
      ],
      "metadata": {
        "id": "8Y3O1fx9IeU2"
      },
      "execution_count": null,
      "outputs": []
    },
    {
      "cell_type": "code",
      "source": [
        "llm = ChatOpenAI(model=\"gpt-4o\", temperature=0)"
      ],
      "metadata": {
        "id": "HluARmvXI7oY"
      },
      "execution_count": null,
      "outputs": []
    },
    {
      "cell_type": "code",
      "source": [
        "agent = create_openai_tools_agent(llm, tools, prompt)\n",
        "# agent = create_react_agent(llm, tools, prompt) #Use this if using hwchase17/react prompt\n",
        "agent_executor = AgentExecutor(agent=agent, tools=tools, verbose=True)"
      ],
      "metadata": {
        "id": "w8JtogsHI_Ml"
      },
      "execution_count": null,
      "outputs": []
    },
    {
      "cell_type": "code",
      "source": [
        "command = {\n",
        "    \"input\": \"\"\"\n",
        "      List all panelists names in https://www.summitdeinteligenciaartificial.com/\n",
        "    \"\"\"\n",
        "}"
      ],
      "metadata": {
        "id": "BTz1NkFvJWJx"
      },
      "execution_count": null,
      "outputs": []
    },
    {
      "cell_type": "code",
      "source": [
        "await agent_executor.ainvoke(command)"
      ],
      "metadata": {
        "id": "XKMMhV4BJmOF"
      },
      "execution_count": null,
      "outputs": []
    },
    {
      "cell_type": "code",
      "source": [
        "from __future__ import annotations\n",
        "\n",
        "from typing import Optional, Type\n",
        "\n",
        "from langchain_core.callbacks import (\n",
        "    AsyncCallbackManagerForToolRun,\n",
        "    CallbackManagerForToolRun,\n",
        ")\n",
        "from langchain_core.pydantic_v1 import BaseModel, Field\n",
        "\n",
        "from langchain_community.tools.playwright.base import BaseBrowserTool\n",
        "from langchain_community.tools.playwright.utils import (\n",
        "    aget_current_page,\n",
        "    get_current_page,\n",
        ")\n",
        "\n",
        "\n",
        "class FillToolInput(BaseModel):\n",
        "    \"\"\"Input for FillTool.\"\"\"\n",
        "\n",
        "    selector: str = Field(..., description=\"CSS selector for the element to fill\")\n",
        "    value: str = Field(None, description=\"text to be filled in element\")\n",
        "\n",
        "\n",
        "class FillTool(BaseBrowserTool):\n",
        "    \"\"\"Tool for Filling on an element with the given CSS selector.\"\"\"\n",
        "\n",
        "    name: str = \"Fill_element\"\n",
        "    description: str = \"Fill on an element with the given CSS selector\"\n",
        "    args_schema: Type[BaseModel] = FillToolInput\n",
        "    visible_only: bool = True\n",
        "    \"\"\"Whether to consider only visible elements.\"\"\"\n",
        "    playwright_strict: bool = False\n",
        "    \"\"\"Whether to employ Playwright's strict mode when Filling on elements.\"\"\"\n",
        "    playwright_timeout: float = 1_000\n",
        "    \"\"\"Timeout (in ms) for Playwright to wait for element to be ready.\"\"\"\n",
        "\n",
        "    def _selector_effective(self, selector: str) -> str:\n",
        "        if not self.visible_only:\n",
        "            return selector\n",
        "        return f\"{selector} >> visible=1\"\n",
        "    def _value_effective(self, value: str) -> str:\n",
        "        if not self.visible_only:\n",
        "            return value\n",
        "        return f\"{value}\"\n",
        "\n",
        "    def _run(\n",
        "        self,\n",
        "        selector: str,\n",
        "        value: str = \"test\",\n",
        "        run_manager: Optional[CallbackManagerForToolRun] = None,\n",
        "    ) -> str:\n",
        "        \"\"\"Use the tool.\"\"\"\n",
        "        if self.sync_browser is None:\n",
        "            raise ValueError(f\"Synchronous browser not provided to {self.name}\")\n",
        "        page = get_current_page(self.sync_browser)\n",
        "        # Navigate to the desired webpage before using this tool\n",
        "        selector_effective = self._selector_effective(selector=selector)\n",
        "        value_effective = self._value_effective(value=value)\n",
        "        from playwright.sync_api import TimeoutError as PlaywrightTimeoutError\n",
        "\n",
        "        try:\n",
        "            page.fill(\n",
        "                selector_effective,\n",
        "                value_effective,\n",
        "                strict=self.playwright_strict,\n",
        "                timeout=self.playwright_timeout,\n",
        "            )\n",
        "        except PlaywrightTimeoutError:\n",
        "            return f\"Unable to Fill on element '{selector}'\"\n",
        "        return f\"Filled element '{selector}'\"\n",
        "\n",
        "    async def _arun(\n",
        "        self,\n",
        "        selector: str,\n",
        "        value:str,\n",
        "        run_manager: Optional[AsyncCallbackManagerForToolRun] = None,\n",
        "    ) -> str:\n",
        "        \"\"\"Use the tool.\"\"\"\n",
        "        if self.async_browser is None:\n",
        "            raise ValueError(f\"Asynchronous browser not provided to {self.name}\")\n",
        "        page = await aget_current_page(self.async_browser)\n",
        "        # Navigate to the desired webpage before using this tool\n",
        "        selector_effective = self._selector_effective(selector=selector)\n",
        "        value_effective = self._value_effective(value=value)\n",
        "        from playwright.async_api import TimeoutError as PlaywrightTimeoutError\n",
        "\n",
        "        try:\n",
        "            await page.fill(\n",
        "                selector_effective,\n",
        "                value_effective,\n",
        "                strict=self.playwright_strict,\n",
        "                timeout=self.playwright_timeout,\n",
        "            )\n",
        "        except PlaywrightTimeoutError:\n",
        "            return f\"Unable to Fill on element '{selector}'\"\n",
        "        return f\"Filled element '{selector}'\""
      ],
      "metadata": {
        "id": "HV2pw6mcKRfe"
      },
      "execution_count": null,
      "outputs": []
    },
    {
      "cell_type": "code",
      "source": [
        "\"\"\"Playwright web browser toolkit.\"\"\"\n",
        "from __future__ import annotations\n",
        "\n",
        "from typing import TYPE_CHECKING, List, Optional, Type, cast\n",
        "\n",
        "from langchain_core.pydantic_v1 import Extra, root_validator\n",
        "from langchain_core.tools import BaseTool\n",
        "\n",
        "from langchain_community.agent_toolkits.base import BaseToolkit\n",
        "from langchain_community.tools.playwright.base import (\n",
        "    BaseBrowserTool,\n",
        "    lazy_import_playwright_browsers,\n",
        ")\n",
        "from langchain_community.tools.playwright.click import ClickTool\n",
        "from langchain_community.tools.playwright.current_page import CurrentWebPageTool\n",
        "from langchain_community.tools.playwright.extract_hyperlinks import (\n",
        "    ExtractHyperlinksTool,\n",
        ")\n",
        "from langchain_community.tools.playwright.extract_text import ExtractTextTool\n",
        "from langchain_community.tools.playwright.get_elements import GetElementsTool\n",
        "from langchain_community.tools.playwright.navigate import NavigateTool\n",
        "from langchain_community.tools.playwright.navigate_back import NavigateBackTool\n",
        "\n",
        "if TYPE_CHECKING:\n",
        "    from playwright.async_api import Browser as AsyncBrowser\n",
        "    from playwright.sync_api import Browser as SyncBrowser\n",
        "else:\n",
        "    try:\n",
        "        # We do this so pydantic can resolve the types when instantiating\n",
        "        from playwright.async_api import Browser as AsyncBrowser\n",
        "        from playwright.sync_api import Browser as SyncBrowser\n",
        "    except ImportError:\n",
        "        pass\n",
        "\n",
        "\n",
        "class PlayWrightBrowserToolkit(BaseToolkit):\n",
        "    \"\"\"Toolkit for PlayWright browser tools.\n",
        "\n",
        "    **Security Note**: This toolkit provides code to control a web-browser.\n",
        "\n",
        "        Careful if exposing this toolkit to end-users. The tools in the toolkit\n",
        "        are capable of navigating to arbitrary webpages, clicking on arbitrary\n",
        "        elements, and extracting arbitrary text and hyperlinks from webpages.\n",
        "\n",
        "        Specifically, by default this toolkit allows navigating to:\n",
        "\n",
        "        - Any URL (including any internal network URLs)\n",
        "        - And local files\n",
        "\n",
        "        If exposing to end-users, consider limiting network access to the\n",
        "        server that hosts the agent; in addition, consider it is advised\n",
        "        to create a custom NavigationTool wht an args_schema that limits the URLs\n",
        "        that can be navigated to (e.g., only allow navigating to URLs that\n",
        "        start with a particular prefix).\n",
        "\n",
        "        Remember to scope permissions to the minimal permissions necessary for\n",
        "        the application. If the default tool selection is not appropriate for\n",
        "        the application, consider creating a custom toolkit with the appropriate\n",
        "        tools.\n",
        "\n",
        "        See https://python.langchain.com/docs/security for more information.\n",
        "    \"\"\"\n",
        "\n",
        "    sync_browser: Optional[\"SyncBrowser\"] = None\n",
        "    async_browser: Optional[\"AsyncBrowser\"] = None\n",
        "\n",
        "    class Config:\n",
        "        \"\"\"Configuration for this pydantic object.\"\"\"\n",
        "\n",
        "        extra = Extra.forbid\n",
        "        arbitrary_types_allowed = True\n",
        "\n",
        "    @root_validator\n",
        "    def validate_imports_and_browser_provided(cls, values: dict) -> dict:\n",
        "        \"\"\"Check that the arguments are valid.\"\"\"\n",
        "        lazy_import_playwright_browsers()\n",
        "        if values.get(\"async_browser\") is None and values.get(\"sync_browser\") is None:\n",
        "            raise ValueError(\"Either async_browser or sync_browser must be specified.\")\n",
        "        return values\n",
        "\n",
        "    def get_tools(self) -> List[BaseTool]:\n",
        "        \"\"\"Get the tools in the toolkit.\"\"\"\n",
        "        tool_classes: List[Type[BaseBrowserTool]] = [\n",
        "            ClickTool,\n",
        "            NavigateTool,\n",
        "            NavigateBackTool,\n",
        "            ExtractTextTool,\n",
        "            ExtractHyperlinksTool,\n",
        "            GetElementsTool,\n",
        "            CurrentWebPageTool,\n",
        "            FillTool,\n",
        "        ]\n",
        "\n",
        "        tools = [\n",
        "            tool_cls.from_browser(\n",
        "                sync_browser=self.sync_browser, async_browser=self.async_browser\n",
        "            )\n",
        "            for tool_cls in tool_classes\n",
        "        ]\n",
        "        return cast(List[BaseTool], tools)\n",
        "\n",
        "    @classmethod\n",
        "    def from_browser(\n",
        "        cls,\n",
        "        sync_browser: Optional[SyncBrowser] = None,\n",
        "        async_browser: Optional[AsyncBrowser] = None,\n",
        "    ) -> PlayWrightBrowserToolkit:\n",
        "        \"\"\"Instantiate the toolkit.\"\"\"\n",
        "        # This is to raise a better error than the forward ref ones Pydantic would have\n",
        "        lazy_import_playwright_browsers()\n",
        "        return cls(sync_browser=sync_browser, async_browser=async_browser)"
      ],
      "metadata": {
        "id": "6ir_3kImhkEn"
      },
      "execution_count": null,
      "outputs": []
    },
    {
      "cell_type": "code",
      "source": [
        "#from langchain_community.agent_toolkits import PlayWrightBrowserToolkit #This is the replaced import\n",
        "# from custom_playwright_toolkit import PlayWrightBrowserToolkit\n",
        "\n",
        "from langchain_community.tools.playwright.utils import (\n",
        "    create_async_playwright_browser,\n",
        ")\n",
        "from langchain import hub\n",
        "from langchain.agents import AgentExecutor, create_openai_tools_agent\n",
        "from langchain_openai import ChatOpenAI\n",
        "\n",
        "# Get the prompt to use - you can modify this!\n",
        "prompt = hub.pull(\"hwchase17/openai-tools-agent\")\n",
        "\n",
        "\n",
        "async_browser = create_async_playwright_browser()\n",
        "toolkit = PlayWrightBrowserToolkit.from_browser(async_browser=async_browser)\n",
        "tools = toolkit.get_tools()\n",
        "# for tool in tools:\n",
        "#     print(tool.name) # To check if fill tool has been added\n",
        "\n",
        "# Choose the LLM that will drive the agent\n",
        "# Only certain models support this\n",
        "llm = ChatOpenAI(model=\"gpt-4o\", temperature=0)\n",
        "\n",
        "# Construct the OpenAI Tools agent\n",
        "agent = create_openai_tools_agent(llm, tools, prompt)\n",
        "\n",
        "\n",
        "# Create an agent executor by passing in the agent and tools\n",
        "agent_executor = AgentExecutor(agent=agent, tools=tools, verbose=True)\n",
        "\n",
        "await agent_executor.ainvoke({\"input\": \"\"\"\n",
        "\n",
        "Search on Google for Summit Joinville and tell me the 10 first results.\n",
        "\n",
        "You can fill out the query form using the Fill Tool.\n",
        "\n",
        "\"\"\"})"
      ],
      "metadata": {
        "id": "Vf2MB2-8hou4"
      },
      "execution_count": null,
      "outputs": []
    },
    {
      "cell_type": "code",
      "source": [],
      "metadata": {
        "id": "IBrTCcnWhuOz"
      },
      "execution_count": null,
      "outputs": []
    }
  ]
}